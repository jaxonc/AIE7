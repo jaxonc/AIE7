{
  "cells": [
    {
      "cell_type": "markdown",
      "metadata": {
        "vscode": {
          "languageId": "raw"
        }
      },
      "source": [
        "# RAG System Comparison Analysis\n",
        "\n",
        "This notebook systematically compares Traditional RAG vs Knowledge Graph Enhanced RAG using GPT-4o for:\n",
        "1. **Prompt Generation**: Generate differentiating test prompts\n",
        "2. **Response Analysis**: Compare and evaluate system responses\n",
        "3. **Performance Assessment**: Analyze strengths/weaknesses of each approach\n",
        "\n",
        "## Comparison Flow:\n",
        "1. 🤖 **GPT-4o generates test prompts** for system comparison\n",
        "2. 👤 **User selects preferred prompt** from generated options\n",
        "3. 🔄 **Both RAG systems respond** to the selected prompt\n",
        "4. 📊 **GPT-4o analyzes responses** and provides detailed comparison\n"
      ]
    },
    {
      "cell_type": "markdown",
      "metadata": {
        "vscode": {
          "languageId": "raw"
        }
      },
      "source": [
        "## Setup and Initialization\n"
      ]
    },
    {
      "cell_type": "code",
      "execution_count": 1,
      "metadata": {},
      "outputs": [],
      "source": [
        "# Basic imports and setup\n",
        "import asyncio\n",
        "import os\n",
        "import openai\n",
        "from getpass import getpass\n",
        "import importlib\n",
        "import sys\n",
        "\n",
        "# Import RAG components\n",
        "from aimakerspace.text_utils import TextFileLoader, CharacterTextSplitter\n",
        "from aimakerspace.vectordatabase import VectorDatabase\n",
        "from aimakerspace.knowledge_graph import KnowledgeGraphEnhancedVectorDB\n",
        "from aimakerspace.openai_utils.prompts import UserRolePrompt, SystemRolePrompt\n",
        "from aimakerspace.openai_utils.chatmodel import ChatOpenAI\n",
        "\n",
        "# Reload modules to ensure latest versions\n",
        "if 'aimakerspace.vectordatabase' in sys.modules:\n",
        "    importlib.reload(sys.modules['aimakerspace.vectordatabase'])\n",
        "    from aimakerspace.vectordatabase import VectorDatabase\n",
        "\n",
        "if 'aimakerspace.knowledge_graph' in sys.modules:\n",
        "    importlib.reload(sys.modules['aimakerspace.knowledge_graph'])\n",
        "    from aimakerspace.knowledge_graph import KnowledgeGraphEnhancedVectorDB\n",
        "\n",
        "import nest_asyncio\n",
        "nest_asyncio.apply()\n"
      ]
    },
    {
      "cell_type": "code",
      "execution_count": 2,
      "metadata": {},
      "outputs": [],
      "source": [
        "# OpenAI API Key setup\n",
        "openai.api_key = getpass(\"OpenAI API Key: \")\n",
        "os.environ[\"OPENAI_API_KEY\"] = openai.api_key\n",
        "\n",
        "# Initialize ChatOpenAI for both RAG responses and GPT-4o analysis\n",
        "chat_openai = ChatOpenAI(model_name=\"gpt-4o-mini\")  # For RAG systems\n",
        "gpt4o_analyzer = ChatOpenAI(model_name=\"gpt-4o\")    # For prompt generation and analysis\n"
      ]
    },
    {
      "cell_type": "code",
      "execution_count": 3,
      "metadata": {},
      "outputs": [
        {
          "name": "stdout",
          "output_type": "stream",
          "text": [
            "📄 Loaded 1 document(s)\n",
            "✂️ Split into 373 chunks\n"
          ]
        }
      ],
      "source": [
        "# Load and process documents\n",
        "text_loader = TextFileLoader(\"data/PMarcaBlogs.txt\")\n",
        "documents = text_loader.load_documents()\n",
        "text_splitter = CharacterTextSplitter()\n",
        "split_documents = text_splitter.split_texts(documents)\n",
        "\n",
        "print(f\"📄 Loaded {len(documents)} document(s)\")\n",
        "print(f\"✂️ Split into {len(split_documents)} chunks\")\n"
      ]
    },
    {
      "cell_type": "code",
      "execution_count": 4,
      "metadata": {},
      "outputs": [
        {
          "name": "stdout",
          "output_type": "stream",
          "text": [
            "🔨 Building Traditional RAG Vector Database...\n",
            "✅ Traditional RAG ready\n"
          ]
        }
      ],
      "source": [
        "# Build Traditional RAG Vector Database\n",
        "print(\"🔨 Building Traditional RAG Vector Database...\")\n",
        "traditional_vector_db = VectorDatabase()\n",
        "traditional_vector_db = asyncio.run(traditional_vector_db.abuild_from_list(split_documents))\n",
        "print(\"✅ Traditional RAG ready\")\n"
      ]
    },
    {
      "cell_type": "code",
      "execution_count": 5,
      "metadata": {},
      "outputs": [
        {
          "name": "stdout",
          "output_type": "stream",
          "text": [
            "🧠 Building Knowledge Graph Enhanced RAG Vector Database...\n",
            "🚀 Building enhanced vector database with knowledge graph...\n",
            "🔗 Building knowledge graph from 373 text chunks...\n",
            "📊 Knowledge graph built: 1182 entities, 6858 relations\n",
            "✅ Enhanced database built with 4 discovered categories\n",
            "\n",
            "📊 Discovered Categories:\n",
            "============================================================\n",
            "🏷️  Category 0 (296 entities):\n",
            "   Top entities: The, Market, Part\n",
            "   Keywords: pmarca, part, andreessen\n",
            "\n",
            "🏷️  Category 1 (296 entities):\n",
            "   Top entities: And, Company, Hiring\n",
            "   Keywords: pmarca, startups\n",
            "\n",
            "🏷️  Category 2 (295 entities):\n",
            "   Top entities: Startup, This, Xrst\n",
            "   Keywords: think\n",
            "\n",
            "🏷️  Category 3 (295 entities):\n",
            "   Top entities: Product, You, How\n",
            "   Keywords: pmarca, andreessen, part\n",
            "\n",
            "✅ Knowledge Graph RAG ready\n"
          ]
        }
      ],
      "source": [
        "# Build Knowledge Graph Enhanced RAG Vector Database\n",
        "print(\"🧠 Building Knowledge Graph Enhanced RAG Vector Database...\")\n",
        "kg_enhanced_db = KnowledgeGraphEnhancedVectorDB()\n",
        "kg_enhanced_db = asyncio.run(kg_enhanced_db.build_from_list(split_documents, num_categories=4))\n",
        "print(\"✅ Knowledge Graph RAG ready\")\n"
      ]
    },
    {
      "cell_type": "code",
      "execution_count": 6,
      "metadata": {},
      "outputs": [
        {
          "name": "stdout",
          "output_type": "stream",
          "text": [
            "🚀 Both RAG pipelines initialized and ready for comparison!\n"
          ]
        }
      ],
      "source": [
        "# RAG System Templates and Pipelines\n",
        "RAG_SYSTEM_TEMPLATE = \"\"\"You are a knowledgeable assistant that answers questions based strictly on provided context.\n",
        "\n",
        "Instructions:\n",
        "- Only answer questions using information from the provided context\n",
        "- If the context doesn't contain relevant information, respond with \"I don't know\"\n",
        "- Be accurate and cite specific parts of the context when possible\n",
        "- Keep responses detailed and comprehensive\n",
        "- Only use the provided context. Do not use external knowledge.\n",
        "- Only provide answers when you are confident the context supports your response.\"\"\"\n",
        "\n",
        "RAG_USER_TEMPLATE = \"\"\"Context Information:\n",
        "{context}\n",
        "\n",
        "Question: {user_query}\n",
        "\n",
        "Please provide your answer based solely on the context above.\"\"\"\n",
        "\n",
        "rag_system_prompt = SystemRolePrompt(RAG_SYSTEM_TEMPLATE)\n",
        "rag_user_prompt = UserRolePrompt(RAG_USER_TEMPLATE)\n",
        "\n",
        "class TraditionalRAGPipeline:\n",
        "    def __init__(self, vector_db: VectorDatabase, llm: ChatOpenAI):\n",
        "        self.vector_db = vector_db\n",
        "        self.llm = llm\n",
        "    \n",
        "    def run_pipeline(self, query: str, k: int = 3) -> dict:\n",
        "        # Get traditional vector search results\n",
        "        results = self.vector_db.search_by_text(query, k=k)\n",
        "        \n",
        "        # Build context\n",
        "        context_parts = []\n",
        "        for i, (text, score) in enumerate(results, 1):\n",
        "            context_parts.append(f\"[Source {i}]: {text}\")\n",
        "        \n",
        "        context_prompt = \"\\n\\n\".join(context_parts)\n",
        "        \n",
        "        # Create messages for LLM\n",
        "        system_message = rag_system_prompt.create_message()\n",
        "        user_message = rag_user_prompt.create_message(\n",
        "            user_query=query,\n",
        "            context=context_prompt\n",
        "        )\n",
        "        \n",
        "        # Get LLM response\n",
        "        response = self.llm.run([system_message, user_message])\n",
        "        \n",
        "        return {\n",
        "            \"response\": response,\n",
        "            \"context\": results,\n",
        "            \"method\": \"Traditional RAG\"\n",
        "        }\n",
        "\n",
        "class KnowledgeGraphRAGPipeline:\n",
        "    def __init__(self, kg_db: KnowledgeGraphEnhancedVectorDB, llm: ChatOpenAI):\n",
        "        self.kg_db = kg_db\n",
        "        self.llm = llm\n",
        "    \n",
        "    def run_pipeline(self, query: str, k: int = 3) -> dict:\n",
        "        # Get graph-enhanced results with entity expansion\n",
        "        results = self.kg_db.search_with_graph_expansion(query, k=k)\n",
        "        \n",
        "        # Build context with entity information\n",
        "        context_parts = []\n",
        "        for i, (text, score, metadata) in enumerate(results, 1):\n",
        "            entities = metadata.get('entities', [])\n",
        "            category = metadata.get('category_name', 'Unknown')\n",
        "            \n",
        "            entity_info = f\" [Key entities: {', '.join(entities[:3])}]\" if entities else \"\"\n",
        "            context_parts.append(f\"[Source {i} - {category}]{entity_info}: {text}\")\n",
        "        \n",
        "        context_prompt = \"\\n\\n\".join(context_parts)\n",
        "        \n",
        "        # Create messages for LLM\n",
        "        system_message = rag_system_prompt.create_message()\n",
        "        user_message = rag_user_prompt.create_message(\n",
        "            user_query=query,\n",
        "            context=context_prompt\n",
        "        )\n",
        "        \n",
        "        # Get LLM response\n",
        "        response = self.llm.run([system_message, user_message])\n",
        "        \n",
        "        return {\n",
        "            \"response\": response,\n",
        "            \"context\": results,\n",
        "            \"entities_used\": [metadata.get('entities', []) for _, _, metadata in results],\n",
        "            \"categories_used\": [metadata.get('category_name', 'Unknown') for _, _, metadata in results],\n",
        "            \"method\": \"Knowledge Graph RAG\"\n",
        "        }\n",
        "\n",
        "# Initialize both pipelines\n",
        "traditional_rag = TraditionalRAGPipeline(traditional_vector_db, chat_openai)\n",
        "kg_rag = KnowledgeGraphRAGPipeline(kg_enhanced_db, chat_openai)\n",
        "\n",
        "print(\"🚀 Both RAG pipelines initialized and ready for comparison!\")\n"
      ]
    },
    {
      "cell_type": "markdown",
      "metadata": {
        "vscode": {
          "languageId": "raw"
        }
      },
      "source": [
        "## Step 1: Generate Test Prompts with GPT-4o\n",
        "\n",
        "Using GPT-4o to generate sophisticated test prompts that will highlight the differences between traditional RAG and knowledge graph enhanced RAG.\n"
      ]
    },
    {
      "cell_type": "code",
      "execution_count": 7,
      "metadata": {},
      "outputs": [
        {
          "name": "stdout",
          "output_type": "stream",
          "text": [
            "📄 Using document description: https://d1lamhf6l6yk6d.cloudfront.net/uploads/2021/08/The-pmarca-Blog-Archives.pdf\n"
          ]
        }
      ],
      "source": [
        "# User input for document URL (or description)\n",
        "document_description = input(\"Please provide the document URL or description for context (e.g., 'PMarca Blog Archives - startup advice from Marc Andreessen'): \")\n",
        "\n",
        "if not document_description:\n",
        "    document_description = \"PMarca Blog Archives - startup advice and business insights from Marc Andreessen\"\n",
        "\n",
        "print(f\"📄 Using document description: {document_description}\")\n"
      ]
    },
    {
      "cell_type": "code",
      "execution_count": 8,
      "metadata": {},
      "outputs": [
        {
          "name": "stdout",
          "output_type": "stream",
          "text": [
            "🤖 Generating test prompts with GPT-4o...\n",
            "\n",
            "📝 Generated Test Prompts:\n",
            "============================================================\n",
            "1. **Entity Relationship Understanding**  \n",
            "   \"Explore the relationships and interactions between key entrepreneurs mentioned in the document, and how their connections have influenced their respective ventures.\"\n",
            "\n",
            "2. **Cross-Concept Connections**  \n",
            "   \"Identify and explain the connections between the concept of 'network effects' and any specific stories or companies in the document, highlighting how these ideas are interlinked across different contexts.\"\n",
            "\n",
            "3. **Category-Based Insights**  \n",
            "   \"Provide an analysis of the various business strategies discussed in the document, categorized by industry, and highlight the common themes or differences across these categories.\"\n",
            "\n",
            "4. **Complex Multi-Step Reasoning**  \n",
            "   \"Trace the development of a major business decision discussed in the document, outlining the sequential steps and reasoning involved, including any external influences that may have been pertinent.\"\n",
            "\n",
            "5. **Semantic Understanding Beyond Keyword Matching**  \n",
            "   \"Summarize the philosophical insights addressed in the document about innovation, showing how these ideas transcend specific examples and apply to broader societal trends.\"\n"
          ]
        }
      ],
      "source": [
        "# Generate test prompts using GPT-4o\n",
        "prompt_generation_template = f\"\"\"Given the provided document, what would be a few example prompts to show the differing capabilities of a knowledge graph augmented rag system vs a traditional rag system?\n",
        "\n",
        "Document: {document_description}\n",
        "\n",
        "Please provide 5 different prompts that would highlight the advantages of knowledge graph enhanced RAG, such as:\n",
        "- Entity relationship understanding\n",
        "- Cross-concept connections\n",
        "- Category-based insights\n",
        "- Complex multi-step reasoning\n",
        "- Semantic understanding beyond keyword matching\n",
        "\n",
        "Format your response as:\n",
        "1. [Prompt 1]\n",
        "2. [Prompt 2]\n",
        "3. [Prompt 3]\n",
        "4. [Prompt 4]\n",
        "5. [Prompt 5]\n",
        "\n",
        "Each prompt should be designed to reveal meaningful differences between the two approaches.\"\"\"\n",
        "\n",
        "print(\"🤖 Generating test prompts with GPT-4o...\")\n",
        "generated_prompts_response = gpt4o_analyzer.run([{\"role\": \"user\", \"content\": prompt_generation_template}])\n",
        "print(\"\\n📝 Generated Test Prompts:\")\n",
        "print(\"=\" * 60)\n",
        "print(generated_prompts_response)\n"
      ]
    },
    {
      "cell_type": "markdown",
      "metadata": {
        "vscode": {
          "languageId": "raw"
        }
      },
      "source": [
        "## Step 2: User Prompt Selection\n",
        "\n",
        "Select which generated prompt you'd like to use for the comparison.\n"
      ]
    },
    {
      "cell_type": "code",
      "execution_count": 12,
      "metadata": {},
      "outputs": [
        {
          "name": "stdout",
          "output_type": "stream",
          "text": [
            "\n",
            "🎯 Available Prompts for Testing:\n",
            "==================================================\n",
            "1. **Entity Relationship Understanding**  \n",
            "   \"Explore the relationships and interactions between key entrepreneurs mentioned in the document, and how their connections have influenced their respective ventures.\"\n",
            "------------------------------\n",
            "2. **Cross-Concept Connections**  \n",
            "   \"Identify and explain the connections between the concept of 'network effects' and any specific stories or companies in the document, highlighting how these ideas are interlinked across different contexts.\"\n",
            "------------------------------\n",
            "3. **Category-Based Insights**  \n",
            "   \"Provide an analysis of the various business strategies discussed in the document, categorized by industry, and highlight the common themes or differences across these categories.\"\n",
            "------------------------------\n",
            "4. **Complex Multi-Step Reasoning**  \n",
            "   \"Trace the development of a major business decision discussed in the document, outlining the sequential steps and reasoning involved, including any external influences that may have been pertinent.\"\n",
            "------------------------------\n",
            "5. **Semantic Understanding Beyond Keyword Matching**  \n",
            "   \"Summarize the philosophical insights addressed in the document about innovation, showing how these ideas transcend specific examples and apply to broader societal trends.\"\n",
            "------------------------------\n"
          ]
        },
        {
          "name": "stdout",
          "output_type": "stream",
          "text": [
            "\n",
            "✅ Selected Prompt: **Entity Relationship Understanding**  \n",
            "   \"Explore the relationships and interactions between key entrepreneurs mentioned in the document, and how their connections have influenced their respective ventures.\"\n"
          ]
        }
      ],
      "source": [
        "# Extract prompts from the response for easier selection\n",
        "import re\n",
        "\n",
        "# Parse the numbered prompts\n",
        "prompt_pattern = r'\\d+\\.\\s*(.+?)(?=\\n\\d+\\.|$)'\n",
        "matches = re.findall(prompt_pattern, generated_prompts_response, re.DOTALL)\n",
        "\n",
        "if matches:\n",
        "    prompts_list = [match.strip() for match in matches]\n",
        "    \n",
        "    print(\"\\n🎯 Available Prompts for Testing:\")\n",
        "    print(\"=\" * 50)\n",
        "    for i, prompt in enumerate(prompts_list, 1):\n",
        "        print(f\"{i}. {prompt}\")\n",
        "        print(\"-\" * 30)\n",
        "    \n",
        "    # Get user selection\n",
        "    while True:\n",
        "        try:\n",
        "            choice = int(input(f\"\\nSelect a prompt number (1-{len(prompts_list)}): \"))\n",
        "            if 1 <= choice <= len(prompts_list):\n",
        "                selected_prompt = prompts_list[choice - 1]\n",
        "                break\n",
        "            else:\n",
        "                print(f\"Please enter a number between 1 and {len(prompts_list)}\")\n",
        "        except ValueError:\n",
        "            print(\"Please enter a valid number\")\n",
        "else:\n",
        "    # Fallback if parsing fails\n",
        "    selected_prompt = input(\"\\nPlease copy and paste your preferred prompt from above: \")\n",
        "\n",
        "print(f\"\\n✅ Selected Prompt: {selected_prompt}\")\n"
      ]
    },
    {
      "cell_type": "markdown",
      "metadata": {
        "vscode": {
          "languageId": "raw"
        }
      },
      "source": [
        "## Step 3: Run Both RAG Systems\n",
        "\n",
        "Execute the selected prompt on both Traditional RAG and Knowledge Graph Enhanced RAG systems.\n"
      ]
    },
    {
      "cell_type": "code",
      "execution_count": 13,
      "metadata": {},
      "outputs": [
        {
          "name": "stdout",
          "output_type": "stream",
          "text": [
            "🔄 Running both RAG systems with selected prompt...\n",
            "======================================================================\n",
            "\n",
            "🔍 Traditional RAG Processing...\n"
          ]
        },
        {
          "name": "stdout",
          "output_type": "stream",
          "text": [
            "🧠 Knowledge Graph RAG Processing...\n",
            "✅ Both systems completed!\n"
          ]
        }
      ],
      "source": [
        "print(\"🔄 Running both RAG systems with selected prompt...\")\n",
        "print(\"=\" * 70)\n",
        "\n",
        "# Run Traditional RAG\n",
        "print(\"\\n🔍 Traditional RAG Processing...\")\n",
        "traditional_result = traditional_rag.run_pipeline(selected_prompt, k=3)\n",
        "\n",
        "# Run Knowledge Graph RAG\n",
        "print(\"🧠 Knowledge Graph RAG Processing...\")\n",
        "kg_result = kg_rag.run_pipeline(selected_prompt, k=3)\n",
        "\n",
        "print(\"✅ Both systems completed!\")\n"
      ]
    },
    {
      "cell_type": "code",
      "execution_count": 14,
      "metadata": {},
      "outputs": [
        {
          "name": "stdout",
          "output_type": "stream",
          "text": [
            "\n",
            "📊 RAG SYSTEM RESPONSES COMPARISON\n",
            "================================================================================\n",
            "\n",
            "🔹 TRADITIONAL RAG RESPONSE:\n",
            "--------------------------------------------------\n",
            "The context provides examples of well-known entrepreneurs and their interactions within the ecosystems of their companies. Specifically, it mentions two distinct entities, Brin and Page from Google, and the relationships they have with seasoned individuals like Schmidt, Doerr, and Moritz. The mention of Google, Yahoo, Facebook, and Apple illustrates how young entrepreneurs often collaborate with more experienced figures who can guide them in their endeavors.\n",
            "\n",
            "For instance, Brin and Page, as young entrepreneurs, are said to be linked up with seasoned individuals such as Schmidt, emphasizing the benefit of experience in the nurturing of innovative ideas. Similarly, the context mentions Yahoo's founders Yang and Filo having connections with Moritz and Koogle, as well as Facebook's Zuckerberg working alongside Thiel and Breyer. This pattern shows a consistent theme where emerging entrepreneurs typically associate with veteran entrepreneurs or venture capitalists, which enhances their ability to navigate challenges and improves their odds of success.\n",
            "\n",
            "The interactions between these key entrepreneurs demonstrate a dynamic blend of mentorship and support, where the younger innovators are influenced by the wisdom and experience of these established figures, critical for the growth of companies that have made a significant impact, such as Apple and Facebook. This indicates that the relationships not only serve to foster new ideas but also provide a network that can facilitate the realization of those ideas into successful ventures. \n",
            "\n",
            "Overall, the relationships among these entrepreneurs reflect a collaborative ecosystem where shared experiences and mentorship play crucial roles in their ventures.\n",
            "\n",
            "\n",
            "🔹 KNOWLEDGE GRAPH RAG RESPONSE:\n",
            "--------------------------------------------------\n",
            "The context refers specifically to prominent entrepreneurs and their relationships within the realm of technology and startups. Notably mentioned are influential figures like Sergey Brin and Larry Page from Google, Jerry Yang and David Filo from Yahoo, Mark Zuckerberg from Facebook, and Steve Jobs with Steve Wozniak from Apple. \n",
            "\n",
            "The relationships between these entrepreneurs often reflect a collaboration between inexperienced founders and seasoned professionals, facilitating the growth and success of these ventures. For example, Brin and Page, who founded Google, were supported by experienced individuals like Eric Schmidt, which illustrates how established figures can provide guidance and legitimacy to newer entrepreneurs.\n",
            "\n",
            "Furthermore, the mention of the \"serial entrepreneur effect\" suggests that seasoned entrepreneurs or venture capitalists (VCs) like Peter Thiel and others (e.g., Moritz and Koogle) play a critical role in nurturing these new ventures. This pattern implies a continuity of influence and knowledge transfer between successive generations of entrepreneurs, where the newer founders often seek out connections with those who have a proven track record.\n",
            "\n",
            "In summary, the document emphasizes that the relationships and collaborative dynamics between experienced and emerging entrepreneurs profoundly shape their ventures, enhancing their chances of success through mentorship, shared networks, and guidance. These connections serve as a vital scaffolding for innovation and growth in the entrepreneurial landscape.\n",
            "\n",
            "🏷️ KG RAG Additional Context:\n",
            "   Categories Used: Cluster_2, Cluster_3, Cluster_1\n",
            "   Unique Entities: 48 entities\n",
            "   Top Entities: Xrst, Page, Loving Tendency, Thiel, Markkula, Koogle, Association Tendency, Two...\n"
          ]
        }
      ],
      "source": [
        "# Display both responses for comparison\n",
        "print(\"\\n📊 RAG SYSTEM RESPONSES COMPARISON\")\n",
        "print(\"=\" * 80)\n",
        "\n",
        "print(\"\\n🔹 TRADITIONAL RAG RESPONSE:\")\n",
        "print(\"-\" * 50)\n",
        "print(traditional_result['response'])\n",
        "\n",
        "print(\"\\n\\n🔹 KNOWLEDGE GRAPH RAG RESPONSE:\")\n",
        "print(\"-\" * 50)\n",
        "print(kg_result['response'])\n",
        "\n",
        "# Show additional context info for KG RAG\n",
        "if 'categories_used' in kg_result:\n",
        "    unique_categories = set(kg_result['categories_used'])\n",
        "    unique_entities = set([entity for entities in kg_result['entities_used'] for entity in entities])\n",
        "    \n",
        "    print(f\"\\n🏷️ KG RAG Additional Context:\")\n",
        "    print(f\"   Categories Used: {', '.join(unique_categories)}\")\n",
        "    print(f\"   Unique Entities: {len(unique_entities)} entities\")\n",
        "    print(f\"   Top Entities: {', '.join(list(unique_entities)[:8])}...\")\n"
      ]
    },
    {
      "cell_type": "markdown",
      "metadata": {
        "vscode": {
          "languageId": "raw"
        }
      },
      "source": [
        "## Step 4: GPT-4o Analysis and Comparison\n",
        "\n",
        "Using GPT-4o to provide detailed analysis and comparison of both responses.\n"
      ]
    },
    {
      "cell_type": "code",
      "execution_count": 15,
      "metadata": {},
      "outputs": [
        {
          "name": "stdout",
          "output_type": "stream",
          "text": [
            "🧠 Generating detailed analysis with GPT-4o...\n",
            "\n",
            "📊 GPT-4o COMPREHENSIVE ANALYSIS\n",
            "================================================================================\n",
            "Here is a detailed analysis of the given RAG responses:\n",
            "\n",
            "### 1. Response Quality Comparison:\n",
            "**Traditional RAG Response:** This response offers a general overview of the relationships among the entrepreneurs and provides specific examples. It emphasizes the mentorship and collaboration between young founders and experienced industry leaders but does not delve deeply into the nature of these interactions.\n",
            "\n",
            "**Knowledge Graph Augmented RAG Response:** This response provides a more structured analysis by identifying specific entrepreneurs and linking them to individual connections. It references the \"serial entrepreneur effect,\" indicating a deeper understanding of the continuity of mentorship through generations.\n",
            "\n",
            "**Better Response:** The Knowledge Graph Augmented RAG response better addresses the prompt by methodically detailing these interactions and including additional context, such as the concept of the \"serial entrepreneur effect.\"\n",
            "\n",
            "### 2. Content Depth:\n",
            "**Traditional RAG Response:** It provides a surface-level discussion of mentoring relationships without exploring the intricacies of these connections or historical context.\n",
            "\n",
            "**Knowledge Graph Augmented RAG Response:** This response offers greater content depth by highlighting specific mentoring relationships and illustrating the concept of successive entrepreneurial influence.\n",
            "\n",
            "### 3. Accuracy Assessment:\n",
            "**Traditional RAG Response:** The information provided is generally accurate but lacks any specific claims or deeper connections that can be cross-validated or challenged based on other source knowledge.\n",
            "\n",
            "**Knowledge Graph Augmented RAG Response:** The accuracy is enhanced due to the specification of individual relationships and by extending the thematic narrative (e.g., serial entrepreneurship), which fits neatly with historical patterns within Silicon Valley.\n",
            "\n",
            "### 4. Approach Differences:\n",
            "**Traditional RAG Approach** uses vector similarity, which focuses on the closest conceptually related context information but can sometimes miss nuanced connections.\n",
            "\n",
            "**Knowledge Graph Augmented RAG Approach** uses structurally mapped relationships which enable the identification of deeper and more specific connections between key entities involved. This causes it to capture the thematic continuity of mentorship better.\n",
            "\n",
            "### 5. Strengths & Weaknesses:\n",
            "- **Traditional RAG Strengths:** Simplicity and efficiency in providing a quick overview of relevant concepts and entities.\n",
            "- **Traditional RAG Weaknesses:** Lacks depth in exploring the nuances of relationships and less precise in terms of detailing the intricate connections.\n",
            "\n",
            "- **Knowledge Graph Augmented RAG Strengths:** Provides structured, specific interactions, enhancing understanding of complex relationships.\n",
            "- **Knowledge Graph Augmented RAG Weaknesses:** May be more computationally intensive and could result in information overload with excessive detail in some instances.\n",
            "\n",
            "### 6. Use Case Recommendations:\n",
            "- **Traditional RAG:** Suitable for contexts where a quick summary is needed or for users who require straightforward answers without delving too deep into relationship details.\n",
            "- **Knowledge Graph Augmented RAG:** Ideal when a detailed analysis is required, especially when exploring complex networks and their implications over time.\n",
            "\n",
            "### 7. Overall Rating:\n",
            "- **Traditional RAG Response:** 7/10 - Provides a reasonable summary but lacks the depth identified in the augmented approach.\n",
            "- **Knowledge Graph Augmented RAG Response:** 9/10 - Offers a comprehensive understanding of the entity relationships with specific examples and conceptual extensions that give depth to the analysis.\n",
            "\n",
            "**Justification:** The Knowledge Graph Augmented RAG approach enhances comprehension through specificity and thematic insights into entrepreneurial networks, which are in better alignment with the prompt's focus. The structured nature of the knowledge graph allows for a more analytical and deeper dive into the interconnections compared to the more general traditional RAG approach.\n"
          ]
        }
      ],
      "source": [
        "# Create comprehensive analysis prompt for GPT-4o\n",
        "analysis_template = f\"\"\"Given the following document used to provide context to our RAG systems, and prompt used to obtain a response, please analyze, compare, and rate the following responses while pointing out any significant differences between them and how the different approaches may have influenced this including potential pros and cons of both.\n",
        "\n",
        "Document: {document_description}\n",
        "\n",
        "Prompt: {selected_prompt}\n",
        "\n",
        "<Start traditional RAG response>\n",
        "{traditional_result['response']}\n",
        "<End traditional RAG response>\n",
        "\n",
        "<Start Knowledge Graph Augmented RAG response>\n",
        "{kg_result['response']}\n",
        "<End Knowledge Graph Augmented RAG response>\n",
        "\n",
        "Please provide a detailed analysis covering:\n",
        "\n",
        "1. **Response Quality Comparison**: Which response better addresses the prompt and why?\n",
        "2. **Content Depth**: Compare the depth and comprehensiveness of each response\n",
        "3. **Accuracy Assessment**: Evaluate the accuracy and relevance of information provided\n",
        "4. **Approach Differences**: How did each RAG approach influence the response?\n",
        "5. **Strengths & Weaknesses**: Key advantages and limitations of each approach\n",
        "6. **Use Case Recommendations**: When would each approach be more suitable?\n",
        "7. **Overall Rating**: Rate each response (1-10) with justification\n",
        "\n",
        "Please be specific about how the knowledge graph enhancement (entity extraction, relationship mapping, category clustering) affected the response quality compared to traditional vector similarity search.\"\"\"\n",
        "\n",
        "print(\"🧠 Generating detailed analysis with GPT-4o...\")\n",
        "analysis_response = gpt4o_analyzer.run([{\"role\": \"user\", \"content\": analysis_template}])\n",
        "\n",
        "print(\"\\n📊 GPT-4o COMPREHENSIVE ANALYSIS\")\n",
        "print(\"=\" * 80)\n",
        "print(analysis_response)\n"
      ]
    },
    {
      "cell_type": "markdown",
      "metadata": {
        "vscode": {
          "languageId": "raw"
        }
      },
      "source": [
        "## Additional Analysis: Context Comparison\n",
        "\n",
        "Let's also examine the specific contexts each system retrieved to understand the differences in retrieval strategies.\n"
      ]
    },
    {
      "cell_type": "code",
      "execution_count": 16,
      "metadata": {},
      "outputs": [
        {
          "name": "stdout",
          "output_type": "stream",
          "text": [
            "\n",
            "🔍 CONTEXT RETRIEVAL COMPARISON\n",
            "======================================================================\n",
            "\n",
            "🔹 TRADITIONAL RAG CONTEXT SOURCES:\n",
            "----------------------------------------\n",
            "Source 1 (Score: 0.460):\n",
            "   ll see when we get\n",
            "to “InYuence-from-Mere-Association Tendency”), and (3) to distort\n",
            "other facts to facilitate love.\n",
            "The application of this principle to entrepreneurs is obvious:\n",
            "entrepreneurs want t...\n",
            "\n",
            "Source 2 (Score: 0.428):\n",
            "   y\n",
            "have an emotional incentive to see the company succeed that\n",
            "hired executives oaen do not share.\n",
            "And of course, never get caught between a venture capitalist and\n",
            "her incentives.\n",
            "Two: Liking/Loving Te...\n",
            "\n",
            "Source 3 (Score: 0.423):\n",
            "    by people who\n",
            "Serial Entrepreneurs 169\n",
            "haven’t done it before. Google (Brin and Page), Yahoo (Yang and\n",
            "Filo), Facebook (Zuckerberg), Apple (Jobs and Wozniak), etc.\n",
            "When you see one of those really re...\n",
            "\n",
            "\n",
            "🔹 KNOWLEDGE GRAPH RAG CONTEXT SOURCES:\n",
            "----------------------------------------\n",
            "Source 1 (Score: 0.460, Category: Cluster_3):\n",
            "   Entities: Strategy, The, You, Yawed, Company\n",
            "   ll see when we get\n",
            "to “InYuence-from-Mere-Association Tendency”), and (3) to distort\n",
            "other facts to facilitate love.\n",
            "The application of this principle to entrepreneurs is obvious:\n",
            "entrepreneurs want t...\n",
            "\n",
            "Source 2 (Score: 0.428, Category: Cluster_1):\n",
            "   Entities: Well, The, Company, Venture Capital, Liking\n",
            "   y\n",
            "have an emotional incentive to see the company succeed that\n",
            "hired executives oaen do not share.\n",
            "And of course, never get caught between a venture capitalist and\n",
            "her incentives.\n",
            "Two: Liking/Loving Te...\n",
            "\n",
            "Source 3 (Score: 0.423, Category: Cluster_2):\n",
            "   Entities: Xrst, Page, Thiel, Markkula, Koogle\n",
            "    by people who\n",
            "Serial Entrepreneurs 169\n",
            "haven’t done it before. Google (Brin and Page), Yahoo (Yang and\n",
            "Filo), Facebook (Zuckerberg), Apple (Jobs and Wozniak), etc.\n",
            "When you see one of those really re...\n",
            "\n"
          ]
        }
      ],
      "source": [
        "print(\"\\n🔍 CONTEXT RETRIEVAL COMPARISON\")\n",
        "print(\"=\" * 70)\n",
        "\n",
        "print(\"\\n🔹 TRADITIONAL RAG CONTEXT SOURCES:\")\n",
        "print(\"-\" * 40)\n",
        "for i, (text, score) in enumerate(traditional_result['context'], 1):\n",
        "    print(f\"Source {i} (Score: {score:.3f}):\")\n",
        "    print(f\"   {text[:200]}...\")\n",
        "    print()\n",
        "\n",
        "print(\"\\n🔹 KNOWLEDGE GRAPH RAG CONTEXT SOURCES:\")\n",
        "print(\"-\" * 40)\n",
        "for i, (text, score, metadata) in enumerate(kg_result['context'], 1):\n",
        "    category = metadata.get('category_name', 'Unknown')\n",
        "    entities = metadata.get('entities', [])\n",
        "    print(f\"Source {i} (Score: {score:.3f}, Category: {category}):\")\n",
        "    if entities:\n",
        "        print(f\"   Entities: {', '.join(entities[:5])}\")\n",
        "    print(f\"   {text[:200]}...\")\n",
        "    print()\n"
      ]
    },
    {
      "cell_type": "code",
      "execution_count": 17,
      "metadata": {},
      "outputs": [
        {
          "name": "stdout",
          "output_type": "stream",
          "text": [
            "\n",
            "📊 CONTEXT RETRIEVAL ANALYSIS\n",
            "============================================================\n",
            "To analyze the context retrieval strategies of the two RAG (Retrieval-Augmented Generation) systems, let's break down each aspect of your inquiry:\n",
            "\n",
            "1. **How different are the retrieved contexts?**\n",
            "   - Both retrieval strategies have selected quite similar contexts, especially in terms of the specific excerpts chosen. This is evident as both sets of sources share the same textual content albeit categorized differently in the Knowledge Graph approach.\n",
            "   - The primary difference lies in the labeling: the Knowledge Graph RAG applies entity extraction and categorization to the sources, whereas the Traditional RAG focuses purely on similarity scoring.\n",
            "\n",
            "2. **Which approach found more relevant information for this specific query?**\n",
            "   - The query is seeking insights into the relationships and interactions between entrepreneurs and how these have influenced their ventures. The most directly relevant context from both systems is Source 3, where notable entrepreneurs (Brin, Page, Yang, Filo, Zuckerberg, Jobs) are mentioned.\n",
            "   - Given that both RAG systems retrieved the same Source 3, the relevancy is largely a tie. However, the Knowledge Graph RAG could potentially provide richer context if its categorization and entities are leveraged for downstream processing, although this isn't evident from the retrieval stage alone.\n",
            "\n",
            "3. **How did entity extraction and categorization influence the Knowledge Graph RAG's choices?**\n",
            "   - The Knowledge Graph RAG applies entity extraction and categorization, which can add semantic context to the retrieval process. For instance, entities like \"Strategy,\" \"Company,\" and names of key figures potentially provide supplemental signals that could guide the system to prioritize or filter results during later stages of processing.\n",
            "   - Despite this additional layer, the entity information didn't lead to a significantly different retrieval outcome in this specific example due to both systems ultimately choosing the same sources.\n",
            "\n",
            "4. **Are there any important perspectives or information that one system missed?**\n",
            "   - Since both systems predominantly leveraged the same content, little direct evidence shows that one system missed critical perspectives that the other captured. Nonetheless, if the query demands a nuanced understanding or broad exploration beyond the explicit text, the Knowledge Graph might enable easier expansion with related entities or categories.\n",
            "\n",
            "**Specific Insights about the Retrieval Strategy Differences:**\n",
            "- **Traditional RAG:** Operates purely on textual similarity, which can be efficient for direct surface-level text matches but may lack nuanced understanding from contextual or relational aspects of entities mentioned.\n",
            "- **Knowledge Graph RAG:**\n",
            "  - Integrates semantic understanding through entity recognition and categorization, adding potential depth for comprehension. \n",
            "  - Enables utilization of richer semantic relationships and connections between entities via categories, though this added context only becomes useful if harnessed beyond raw retrieval.\n",
            "  - Despite differences in processing, both systems chose the same excerpts due to the similarity in scoring, hinting at the importance of preprocessing and the dataset's inherent structure.\n",
            "\n",
            "In summary, while the systems appear similar at face value in their retrieval results, the Knowledge Graph approach holds potential advantages in scenarios where entity relationships, categories, and broader contextual understanding are necessary for more sophisticated queries. However, for immediate text retrieval without deeper processing, both systems showed comparable performance due to the similar selection of sources.\n"
          ]
        }
      ],
      "source": [
        "# Generate context analysis\n",
        "context_analysis_template = f\"\"\"Please analyze the context retrieval strategies of these two RAG systems based on the sources they selected:\n",
        "\n",
        "Query: {selected_prompt}\n",
        "\n",
        "Traditional RAG Sources (similarity-based):\n",
        "{chr(10).join([f\"Source {i+1} (Score: {score:.3f}): {text[:150]}...\" for i, (text, score) in enumerate(traditional_result['context'])])}\n",
        "\n",
        "Knowledge Graph RAG Sources (entity + similarity-based):\n",
        "{chr(10).join([f\"Source {i+1} (Score: {score:.3f}, Category: {metadata.get('category_name', 'Unknown')}, Entities: {', '.join(metadata.get('entities', [])[:3])}): {text[:150]}...\" for i, (text, score, metadata) in enumerate(kg_result['context'])])}\n",
        "\n",
        "Please compare:\n",
        "1. How different are the retrieved contexts?\n",
        "2. Which approach found more relevant information for this specific query?\n",
        "3. How did entity extraction and categorization influence the Knowledge Graph RAG's choices?\n",
        "4. Are there any important perspectives or information that one system missed?\n",
        "\n",
        "Provide specific insights about the retrieval strategy differences.\"\"\"\n",
        "\n",
        "context_analysis = gpt4o_analyzer.run([{\"role\": \"user\", \"content\": context_analysis_template}])\n",
        "\n",
        "print(\"\\n📊 CONTEXT RETRIEVAL ANALYSIS\")\n",
        "print(\"=\" * 60)\n",
        "print(context_analysis)\n"
      ]
    },
    {
      "cell_type": "markdown",
      "metadata": {
        "vscode": {
          "languageId": "raw"
        }
      },
      "source": [
        "## Summary and Conclusion\n",
        "\n",
        "This comparison analysis demonstrates the practical differences between traditional vector similarity RAG and knowledge graph enhanced RAG approaches.\n"
      ]
    },
    {
      "cell_type": "code",
      "execution_count": 18,
      "metadata": {},
      "outputs": [
        {
          "name": "stdout",
          "output_type": "stream",
          "text": [
            "\n",
            "🎯 COMPARISON SUMMARY\n",
            "==================================================\n",
            "Selected Prompt: **Entity Relationship Understanding**  \n",
            "   \"Explore the relationships and interactions between key entrepreneurs mentioned in the document, and how their connections have influenced their respective ventures.\"\n",
            "Document Context: https://d1lamhf6l6yk6d.cloudfront.net/uploads/2021/08/The-pmarca-Blog-Archives.pdf\n",
            "\n",
            "✅ Analysis Complete!\n",
            "\n",
            "📊 Key Findings:\n",
            "• Traditional RAG: Pure vector similarity matching\n",
            "• Knowledge Graph RAG: Entity-aware + relationship-enhanced retrieval\n",
            "• Both systems processed the same source documents\n",
            "• GPT-4o provided objective analysis of response quality\n",
            "\n",
            "🔄 To run another comparison, restart from Step 1 with a different prompt\n"
          ]
        }
      ],
      "source": [
        "print(\"\\n🎯 COMPARISON SUMMARY\")\n",
        "print(\"=\" * 50)\n",
        "print(f\"Selected Prompt: {selected_prompt}\")\n",
        "print(f\"Document Context: {document_description}\")\n",
        "print(\"\\n✅ Analysis Complete!\")\n",
        "print(\"\")\n",
        "print(\"📊 Key Findings:\")\n",
        "print(\"• Traditional RAG: Pure vector similarity matching\")\n",
        "print(\"• Knowledge Graph RAG: Entity-aware + relationship-enhanced retrieval\")\n",
        "print(\"• Both systems processed the same source documents\")\n",
        "print(\"• GPT-4o provided objective analysis of response quality\")\n",
        "print(\"\")\n",
        "print(\"🔄 To run another comparison, restart from Step 1 with a different prompt\")\n"
      ]
    }
  ],
  "metadata": {
    "kernelspec": {
      "display_name": ".venv",
      "language": "python",
      "name": "python3"
    },
    "language_info": {
      "codemirror_mode": {
        "name": "ipython",
        "version": 3
      },
      "file_extension": ".py",
      "mimetype": "text/x-python",
      "name": "python",
      "nbconvert_exporter": "python",
      "pygments_lexer": "ipython3",
      "version": "3.13.5"
    }
  },
  "nbformat": 4,
  "nbformat_minor": 2
}
